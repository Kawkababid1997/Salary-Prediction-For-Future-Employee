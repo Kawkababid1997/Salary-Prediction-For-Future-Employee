{
 "cells": [
  {
   "cell_type": "markdown",
   "metadata": {},
   "source": [
    "### Importing Libraries"
   ]
  },
  {
   "cell_type": "code",
   "execution_count": 49,
   "metadata": {},
   "outputs": [],
   "source": [
    "import numpy as np\n",
    "import pandas as pd\n",
    "import matplotlib.pyplot as plt\n",
    "import seaborn as sns\n",
    "%matplotlib inline\n",
    "from sklearn.utils import shuffle\n",
    "from sklearn.linear_model import LinearRegression\n",
    "from sklearn.preprocessing import LabelEncoder\n",
    "from sklearn.ensemble import RandomForestRegressor, GradientBoostingRegressor\n",
    "from sklearn.model_selection import cross_val_score"
   ]
  },
  {
   "cell_type": "code",
   "execution_count": 39,
   "metadata": {},
   "outputs": [
    {
     "name": "stdout",
     "output_type": "stream",
     "text": [
      "The autoreload extension is already loaded. To reload it, use:\n",
      "  %reload_ext autoreload\n"
     ]
    }
   ],
   "source": [
    "import sys\n",
    "import os\n",
    "helper_dir = os.path.join('..','HelperFunction')\n",
    "sys.path.append(helper_dir)\n",
    "import HelperFunction as helpers\n",
    "%load_ext autoreload\n",
    "%autoreload 2"
   ]
  },
  {
   "cell_type": "markdown",
   "metadata": {},
   "source": [
    "### Getting the Data Ready"
   ]
  },
  {
   "cell_type": "code",
   "execution_count": 40,
   "metadata": {},
   "outputs": [
    {
     "name": "stdout",
     "output_type": "stream",
     "text": [
      "Loading Data\n",
      "Cleaning Data\n"
     ]
    }
   ],
   "source": [
    "##define input\n",
    "train_feature_file = 'data/train_features.csv'\n",
    "train_target_file = 'data/train_salaries.csv'\n",
    "test_feature_file = 'data/test_features.csv'\n",
    "\n",
    "# Define variables\n",
    "categorical_vars = ['companyId', 'jobType', 'degree', 'major', 'industry']\n",
    "numerical_vars = ['yearsExperience', 'milesFromMetropolis']\n",
    "target_vars = 'salary'\n",
    "connecting_column = 'jobId'\n",
    "\n",
    "# load data\n",
    "print(\"Loading Data\")\n",
    "feature_df = helpers.load_dataset(train_feature_file)\n",
    "target_df = helpers.load_dataset(train_target_file)\n",
    "test_df = helpers.load_dataset(test_feature_file)\n",
    "\n",
    "# Merge the training data\n",
    "raw_train_df = helpers.consolidate_data(feature_df, target_df, key = connecting_column)\n",
    "\n",
    "print(\"Cleaning Data\")\n",
    "clean_train_df = helpers.clean_data(raw_train_df, connecting_column, target_vars)"
   ]
  },
  {
   "cell_type": "markdown",
   "metadata": {},
   "source": [
    "### 5. Establish a Baseline Model"
   ]
  },
  {
   "cell_type": "code",
   "execution_count": 42,
   "metadata": {},
   "outputs": [
    {
     "name": "stdout",
     "output_type": "stream",
     "text": [
      "\n",
      "Model:\n",
      " LinearRegression()\n",
      "Average MSE:\n",
      " 384.49421558178705\n",
      "Standard deviation during cross validation:\n",
      " 1.3986351678644837\n"
     ]
    }
   ],
   "source": [
    "# Encoding categorical data and get final feature dataframes\n",
    "feature_df = helpers.label_Encoder(df1 = clean_train_df, cat_vars=categorical_vars, num_vars=numerical_vars, \n",
    "                                   engingeering=False)\n",
    "# Getting the target Variable\n",
    "target_df = helpers.get_target_df(clean_train_df, target_vars)\n",
    "# BaseLine models \n",
    "lr = LinearRegression()\n",
    "# train the model and Print Summary \n",
    "helpers.train_model(lr, feature_df, target_df)"
   ]
  },
  {
   "cell_type": "markdown",
   "metadata": {},
   "source": [
    "### 6. Feature Engineering"
   ]
  },
  {
   "cell_type": "markdown",
   "metadata": {},
   "source": [
    "We found from Exploratory data Analaysis Heatmap that:\n",
    "\n",
    "There is a weak positive relationship (0.38) between salary and yearsExperience. There is a weak negative relationship between (-0.3) salary and milesFromMetropolis. The prediction will be unreliable with weak correaltion. Therefore, We will engineer new features to enhance model performance.\n",
    "\n",
    "**New Features:Calculate descriptive statistics by aggregating categorical features (Eg: Group_mean, Group_min, Group_max, Group_std)**"
   ]
  },
  {
   "cell_type": "code",
   "execution_count": 43,
   "metadata": {},
   "outputs": [
    {
     "name": "stdout",
     "output_type": "stream",
     "text": [
      "One Hot Encoding\n",
      "Shuffling the Data\n",
      "Done!!!!\n"
     ]
    }
   ],
   "source": [
    "fillna=True\n",
    "# Create New Features:\n",
    "GrpAvg_ds, GrpAvg_cols = helpers.FeatureEng_GrpAvg(clean_train_df, categorical_vars, target_vars)\n",
    "\n",
    "# Merge new features with existing data\n",
    "train_dataset = helpers.FeatureEng_merge(clean_train_df, GrpAvg_ds, categorical_vars, GrpAvg_cols, fillna)\n",
    "test_dataset = helpers.FeatureEng_merge(test_df, GrpAvg_ds, categorical_vars, GrpAvg_cols, fillna)\n",
    "\n",
    "# One hot Encoding\n",
    "print(\"One Hot Encoding\")\n",
    "Label_encoders={}\n",
    "for col in categorical_vars:\n",
    "    train_dataset[col], test_dataset[col], Label_encoders[col] = helpers.label_Encoder(train_dataset,test_dataset, \n",
    "                                                                                       col, engingeering=True)    \n",
    "# Updating Feature list\n",
    "cat_cols_FE = categorical_vars + GrpAvg_cols\n",
    "feature_cols = cat_cols_FE + numerical_vars\n",
    "print(\"Shuffling the Data\")\n",
    "#Shuffling training dataset\n",
    "train_dataset = helpers.shuffle_df(train_dataset)\n",
    "print(\"Done!!!!\")"
   ]
  },
  {
   "cell_type": "code",
   "execution_count": 44,
   "metadata": {},
   "outputs": [],
   "source": [
    "# initialise models list and metrics\n",
    "models = []\n",
    "mean_mse = {}\n",
    "cv_std = {}\n",
    "res = {}\n",
    "# defining the number of processors\n",
    "n_procs = 4\n",
    "# set verbose level\n",
    "verbose_lvl = 0"
   ]
  },
  {
   "cell_type": "markdown",
   "metadata": {},
   "source": [
    "### Improving models with new features"
   ]
  },
  {
   "cell_type": "code",
   "execution_count": 45,
   "metadata": {},
   "outputs": [
    {
     "name": "stdout",
     "output_type": "stream",
     "text": [
      "Cross validating the models\n",
      "\n",
      "model:\n",
      " LinearRegression()\n",
      "Average MSE:\n",
      " 358.1688669529415\n",
      "Standard deviation during cross validation:\n",
      " 0.6289748878530759\n",
      "\n",
      "model:\n",
      " RandomForestRegressor(max_depth=20, max_features=10, min_samples_split=70,\n",
      "                      n_estimators=80, n_jobs=4)\n",
      "Average MSE:\n",
      " 314.8854714009659\n",
      "Standard deviation during cross validation:\n",
      " 0.9037294215536917\n",
      "\n",
      "model:\n",
      " GradientBoostingRegressor(max_depth=7, n_estimators=40)\n",
      "Average MSE:\n",
      " 313.3603866995765\n",
      "Standard deviation during cross validation:\n",
      " 0.8787453323400882\n"
     ]
    }
   ],
   "source": [
    "lr = LinearRegression()\n",
    "rf = RandomForestRegressor(n_estimators = 80, n_jobs = n_procs, max_depth = 20, min_samples_split = 70,\n",
    "                          max_features = 10, verbose = verbose_lvl)\n",
    "gbm = GradientBoostingRegressor(n_estimators = 40, max_depth = 7, loss = 'ls', verbose = verbose_lvl)\n",
    "models.extend([lr, rf, gbm])\n",
    "\n",
    "print('Cross validating the models')\n",
    "for model in models:\n",
    "    helpers.cross_val_model(model, train_dataset[feature_cols], train_dataset[target_vars],n_procs ,mean_mse, cv_std)\n",
    "    helpers.print_summary(model, mean_mse, cv_std)"
   ]
  },
  {
   "cell_type": "markdown",
   "metadata": {},
   "source": [
    "### Selecting the best model based on MSE"
   ]
  },
  {
   "cell_type": "code",
   "execution_count": 46,
   "metadata": {},
   "outputs": [
    {
     "name": "stdout",
     "output_type": "stream",
     "text": [
      "The best model based on MSE during cross validation:\n",
      "GradientBoostingRegressor(max_depth=7, n_estimators=40)\n"
     ]
    }
   ],
   "source": [
    "bestModel = min(mean_mse, key = mean_mse.get)\n",
    "print('The best model based on MSE during cross validation:')\n",
    "print(bestModel)"
   ]
  },
  {
   "cell_type": "code",
   "execution_count": 47,
   "metadata": {},
   "outputs": [
    {
     "data": {
      "text/plain": [
       "GradientBoostingRegressor(max_depth=7, n_estimators=40)"
      ]
     },
     "execution_count": 47,
     "metadata": {},
     "output_type": "execute_result"
    }
   ],
   "source": [
    "bestModel.fit(train_dataset[feature_cols], train_dataset[target_vars])"
   ]
  },
  {
   "cell_type": "code",
   "execution_count": 48,
   "metadata": {},
   "outputs": [],
   "source": [
    "predicted_salaries = bestModel.predict(test_dataset[feature_cols])"
   ]
  },
  {
   "cell_type": "markdown",
   "metadata": {},
   "source": [
    "### Feature Importance"
   ]
  },
  {
   "cell_type": "code",
   "execution_count": 50,
   "metadata": {},
   "outputs": [
    {
     "data": {
      "image/png": "[encoded data removed]",
      "text/plain": [
       "<Figure size 720x432 with 1 Axes>"
      ]
     },
     "metadata": {
      "needs_background": "light"
     },
     "output_type": "display_data"
    }
   ],
   "source": [
    "feature_importances = helpers.get_model_feature_importances(bestModel, train_dataset[feature_cols])\n",
    "feature_importances.plot.bar(figsize=(10,6),color='Blue')\n",
    "plt.title(\"Feature Importance\");"
   ]
  },
  {
   "cell_type": "markdown",
   "metadata": {},
   "source": [
    "Based on the above plot, we can certainly say that **group_mean** is the most important feature for predicting job salaries followed by **yearsExperience**"
   ]
  },
  {
   "cell_type": "markdown",
   "metadata": {},
   "source": [
    "### Saving Model for Future Use"
   ]
  },
  {
   "cell_type": "code",
   "execution_count": 55,
   "metadata": {},
   "outputs": [],
   "source": [
    "helpers.save_results(model, mean_mse[model], predicted_salaries, feature_importances)"
   ]
  },
  {
   "cell_type": "code",
   "execution_count": 56,
   "metadata": {},
   "outputs": [
    {
     "name": "stdout",
     "output_type": "stream",
     "text": [
      "GradientBoostingRegressor(max_depth=7, n_estimators=40)"
     ]
    }
   ],
   "source": [
    "!cat model.txt"
   ]
  },
  {
   "cell_type": "code",
   "execution_count": 57,
   "metadata": {},
   "outputs": [
    {
     "name": "stdout",
     "output_type": "stream",
     "text": [
      "feature,importance\r\n",
      "group_mean,0.6901693490010732\r\n",
      "yearsExperience,0.15248262641660587\r\n",
      "milesFromMetropolis,0.10451401299970714\r\n",
      "group_min,0.015269214155258682\r\n",
      "group_std,0.013360634692380203\r\n",
      "group_max,0.011826084568438673\r\n",
      "group_median,0.0100316044447755\r\n",
      "jobType,0.0015271893837683773\r\n",
      "industry,0.0005911511090934875\r\n"
     ]
    }
   ],
   "source": [
    "!head feature_importances"
   ]
  },
  {
   "cell_type": "code",
   "execution_count": 58,
   "metadata": {},
   "outputs": [
    {
     "name": "stdout",
     "output_type": "stream",
     "text": [
      "1.158068728340799538e+02\r\n",
      "8.721737653740480312e+01\r\n",
      "1.660214392148803881e+02\r\n",
      "1.093808114078834279e+02\r\n",
      "1.075035553838071110e+02\r\n",
      "1.591616837435202001e+02\r\n",
      "1.083489660262361411e+02\r\n",
      "1.306538562718167782e+02\r\n",
      "1.013333171425995829e+02\r\n",
      "9.760339886383607677e+01\r\n"
     ]
    }
   ],
   "source": [
    "!head predictions.csv"
   ]
  }
 ],
 "metadata": {
  "kernelspec": {
   "display_name": "Python 3",
   "language": "python",
   "name": "python3"
  },
  "language_info": {
   "codemirror_mode": {
    "name": "ipython",
    "version": 3
   },
   "file_extension": ".py",
   "mimetype": "text/x-python",
   "name": "python",
   "nbconvert_exporter": "python",
   "pygments_lexer": "ipython3",
   "version": "3.7.4"
  }
 },
 "nbformat": 4,
 "nbformat_minor": 2
}
