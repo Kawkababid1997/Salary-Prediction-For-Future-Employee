{
 "cells": [
  {
   "cell_type": "markdown",
   "metadata": {},
   "source": [
    "### Libraries"
   ]
  },
  {
   "cell_type": "code",
   "execution_count": 1,
   "metadata": {},
   "outputs": [],
   "source": [
    "import numpy as np\n",
    "import pandas as pd\n",
    "import matplotlib.pyplot as plt\n",
    "import seaborn as sns\n",
    "%matplotlib inline\n",
    "from sklearn.utils import shuffle\n",
    "from sklearn.linear_model import LinearRegression\n",
    "from sklearn.pipeline import make_pipeline\n",
    "from sklearn.decomposition import PCA\n",
    "from sklearn.preprocessing import StandardScaler\n",
    "from sklearn.ensemble import RandomForestRegressor, GradientBoostingRegressor\n",
    "from sklearn.model_selection import cross_val_score"
   ]
  },
  {
   "cell_type": "markdown",
   "metadata": {},
   "source": [
    "### Preprocessing Data For Modeling"
   ]
  },
  {
   "cell_type": "code",
   "execution_count": 3,
   "metadata": {},
   "outputs": [
    {
     "name": "stdout",
     "output_type": "stream",
     "text": [
      "Loading Data\n",
      "Encoding Data\n",
      "Obtaining the target variable\n"
     ]
    }
   ],
   "source": [
    "##define input\n",
    "train_feature_file = 'data/train_features.csv'\n",
    "train_target_file = 'data/train_salaries.csv'\n",
    "test_feature_file = 'data/test_features.csv'\n",
    "\n",
    "# Define variables\n",
    "categorical_vars = ['companyId', 'jobType', 'degree', 'major', 'industry']\n",
    "numerical_vars = ['yearsExperience', 'milesFromMetropolis']\n",
    "target_vars = 'salary'\n",
    "connecting_column = 'jobId'\n",
    "\n",
    "\n",
    "# load data\n",
    "print(\"Loading Data\")\n",
    "feature_df = load_dataset(train_feature_file)\n",
    "target_df = load_dataset(train_target_file)\n",
    "test_df = load_dataset(test_feature_file)\n",
    "\n",
    "# Merge the training data\n",
    "raw_train_df = consolidate_data(feature_df, target_df, key = connecting_column)\n",
    "\n",
    "# Clean, rearange and reindex training data as rearranging improves cross-validation accuracy\n",
    "clean_train_df = clean_data(raw_train_df, connecting_column, target_vars, rearrange=True)\n",
    "\n",
    "# Encoding categorical data and get final feature dataframes\n",
    "print(\"Encoding Data\")\n",
    "feature_df = one_hot_encode_feature_df(clean_train_df, cat_vars=categorical_vars, num_vars=numerical_vars)\n",
    "test_df = one_hot_encode_feature_df(test_df,cat_vars=categorical_vars, num_vars=numerical_vars)\n",
    "\n",
    "# get target df\n",
    "print(\"Obtaining the target variable\")\n",
    "target_df = get_target_df(clean_train_df, target_vars)"
   ]
  },
  {
   "cell_type": "markdown",
   "metadata": {},
   "source": [
    "## 5. Modeling"
   ]
  },
  {
   "cell_type": "code",
   "execution_count": 6,
   "metadata": {},
   "outputs": [],
   "source": [
    "#initialize model list and dicts\n",
    "mean_mse = {}\n",
    "cv_std = {}\n",
    "res = {}\n",
    "\n",
    "#define number of processes to run in parrallel\n",
    "num_procs = 2\n",
    "\n",
    "#shared model parameters\n",
    "verbose_level = 0"
   ]
  },
  {
   "cell_type": "markdown",
   "metadata": {},
   "source": [
    "## Create Model"
   ]
  },
  {
   "cell_type": "code",
   "execution_count": 9,
   "metadata": {},
   "outputs": [
    {
     "name": "stdout",
     "output_type": "stream",
     "text": [
      "Beginning cross validation\n",
      "\n",
      "Model: \n",
      " LinearRegression()\n",
      "\n",
      "Average MSE: \n",
      " 384.47326160447574\n",
      "\n",
      "Standard deviation during CV: \n",
      " 0.757066905676453\n"
     ]
    }
   ],
   "source": [
    "# BaseLine models \n",
    "lr = LinearRegression()\n",
    "#parallel cross-validate models, using MSE as evaluation metric and print summaries \n",
    "print(\"Beginning cross validation\")\n",
    "train_model(lr, feature_df, target_df, num_procs, mean_mse, cv_std)\n",
    "print_summary(lr, mean_mse, cv_std)"
   ]
  },
  {
   "cell_type": "code",
   "execution_count": 11,
   "metadata": {
    "scrolled": true
   },
   "outputs": [
    {
     "name": "stdout",
     "output_type": "stream",
     "text": [
      "Beginning cross validation\n",
      "\n",
      "Model: \n",
      " Pipeline(steps=[('standardscaler', StandardScaler()), ('pca', PCA()),\n",
      "                ('linearregression', LinearRegression())])\n",
      "\n",
      "Average MSE: \n",
      " 384.50053951807934\n",
      "\n",
      "Standard deviation during CV: \n",
      " 0.739516095374853\n"
     ]
    }
   ],
   "source": [
    "# Another BaseLine models \n",
    "lr_std_pca = make_pipeline(StandardScaler(), PCA(), LinearRegression())\n",
    "#parallel cross-validate models, using MSE as evaluation metric and print summaries \n",
    "print(\"Beginning cross validation\")\n",
    "train_model(lr_std_pca, feature_df, target_df, num_procs, mean_mse, cv_std)\n",
    "print_summary(lr_std_pca, mean_mse, cv_std)"
   ]
  },
  {
   "cell_type": "code",
   "execution_count": 12,
   "metadata": {},
   "outputs": [
    {
     "name": "stdout",
     "output_type": "stream",
     "text": [
      "Beginning cross validation\n",
      "\n",
      "Model: \n",
      " GradientBoostingRegressor(max_depth=5, n_estimators=150)\n",
      "\n",
      "Average MSE: \n",
      " 357.1717355417369\n",
      "\n",
      "Standard deviation during CV: \n",
      " 0.6867436860884766\n"
     ]
    }
   ],
   "source": [
    "\n",
    "gbm = GradientBoostingRegressor(n_estimators=150, max_depth=5, loss='ls', verbose=verbose_level)\n",
    "#parallel cross-validate models, using MSE as evaluation metric and print summaries \n",
    "print(\"Beginning cross validation\")\n",
    "train_model(gbm, feature_df, target_df, num_procs, mean_mse, cv_std)\n",
    "print_summary(gbm, mean_mse, cv_std)"
   ]
  },
  {
   "cell_type": "markdown",
   "metadata": {},
   "source": [
    "### Different estimators with Hyperparameter tuning by hand "
   ]
  },
  {
   "cell_type": "code",
   "execution_count": 18,
   "metadata": {},
   "outputs": [
    {
     "name": "stdout",
     "output_type": "stream",
     "text": [
      "\n",
      "Predictions calculated using model with lowest MSE\n",
      "GradientBoostingRegressor(max_depth=5, n_estimators=150)\n"
     ]
    }
   ],
   "source": [
    "# choose model with lowest mse\n",
    "model = min(mean_mse, key =mean_mse.get)\n",
    "print('\\nPredictions calculated using model with lowest MSE')\n",
    "print(model)\n",
    "\n",
    "# Train the model on the entire dataset\n",
    "model.fit(feature_df, target_df)\n",
    "\n",
    "# create predictions based on test data\n",
    "predictions = model.predict(test_df)"
   ]
  },
  {
   "cell_type": "code",
   "execution_count": 34,
   "metadata": {},
   "outputs": [],
   "source": [
    "#store feature importance\n",
    "if hasattr(model, 'feature_importances_'):\n",
    "    importances = model.feature_importances_\n",
    "else:\n",
    "    #linear models don't have feature importance\n",
    "    importances = [0] * len(feature_df.columns)\n",
    "    \n",
    "feature_importances = pd.DataFrame({'feature': feature_df.columns, 'importance': importances})\n",
    "feature_importances.sort_values(by = 'importance', ascending = False, inplace = True)\n",
    "# Set index to 'feature'\n",
    "feature_importances.set_index('feature', inplace = True, drop = True)\n",
    "\n",
    "# save results\n",
    "save_results(model, mean_mse[model], predictions, feature_importances)"
   ]
  },
  {
   "cell_type": "code",
   "execution_count": 39,
   "metadata": {},
   "outputs": [
    {
     "data": {
      "image/png": "[encoded data removed]",
      "text/plain": [
       "<Figure size 1440x720 with 1 Axes>"
      ]
     },
     "metadata": {
      "needs_background": "light"
     },
     "output_type": "display_data"
    }
   ],
   "source": [
    "# Visualize the feature importance\n",
    "feature_importances[0:25].plot.bar(figsize=(20,10))\n",
    "plt.show()"
   ]
  },
  {
   "cell_type": "code",
   "execution_count": 35,
   "metadata": {},
   "outputs": [
    {
     "name": "stdout",
     "output_type": "stream",
     "text": [
      "GradientBoostingRegressor(max_depth=5, n_estimators=150)"
     ]
    }
   ],
   "source": [
    "!cat model.txt"
   ]
  },
  {
   "cell_type": "code",
   "execution_count": 37,
   "metadata": {},
   "outputs": [
    {
     "name": "stdout",
     "output_type": "stream",
     "text": [
      "feature,importance\r\n",
      "jobType_JANITOR,0.21828490267922956\r\n",
      "yearsExperience,0.18671955106863095\r\n",
      "milesFromMetropolis,0.12977153159094487\r\n",
      "major_NONE,0.08562541642547006\r\n",
      "jobType_JUNIOR,0.07476353234820471\r\n",
      "jobType_CEO,0.04849366045788037\r\n",
      "jobType_SENIOR,0.04021898714705644\r\n",
      "industry_FINANCE,0.02897898740675118\r\n",
      "industry_EDUCATION,0.02856866027980081\r\n"
     ]
    }
   ],
   "source": [
    "!head feature_importances"
   ]
  },
  {
   "cell_type": "code",
   "execution_count": 38,
   "metadata": {},
   "outputs": [
    {
     "name": "stdout",
     "output_type": "stream",
     "text": [
      "1.112319470299436972e+02\r\n",
      "9.358076805149416089e+01\r\n",
      "1.789313055117162321e+02\r\n",
      "1.043686516871985788e+02\r\n",
      "1.170745237113825823e+02\r\n",
      "1.507164339871127652e+02\r\n",
      "9.642931186092559415e+01\r\n",
      "1.185500271711056826e+02\r\n",
      "1.069490341265068594e+02\r\n",
      "9.826842079587653700e+01\r\n"
     ]
    }
   ],
   "source": [
    "!head predictions.csv"
   ]
  },
  {
   "cell_type": "markdown",
   "metadata": {},
   "source": [
    "### Helper Function"
   ]
  },
  {
   "cell_type": "code",
   "execution_count": 40,
   "metadata": {},
   "outputs": [],
   "source": [
    "# load the data\n",
    "def load_dataset(file):\n",
    "    \"\"\"\n",
    "    Read a comma-separated values (csv) file into DataFrame.\n",
    "    \n",
    "    Parameters\n",
    "    ----------\n",
    "    file: the directory of the dataset\n",
    "    \"\"\"\n",
    "    return pd.read_csv(file)\n",
    "\n",
    "#Merge Dataset\n",
    "def consolidate_data(df1, df2, key=None, left_index=False, right_index=False):\n",
    "    \"\"\"\n",
    "    Performs inner join to return only records that are present in both dataframe\n",
    "    \n",
    "    Parameters\n",
    "    ----------\n",
    "    \n",
    "    df1: DataFrame1\n",
    "    df2: DataFrame2\n",
    "    key: Column or index level names to join on. These must be found in both DataFrames.\n",
    "    \n",
    "    left_index: bool, default False\n",
    "                Use the index from the left DataFrame as the join key(s). If it is a\n",
    "                MultiIndex, the number of keys in the other DataFrame (either the index\n",
    "                or a number of columns) must match the number of levels.\n",
    "    \n",
    "    right_index: bool, default False\n",
    "                 Use the index from the right DataFrame as the join key. Same caveats as left_index.\n",
    "    \n",
    "    \"\"\"\n",
    "    return pd.merge(left=df1, right=df2, how='inner', on=key, left_index=left_index, right_index=right_index)\n",
    "    \n",
    "\n",
    "# Check for duplicates\n",
    "def check_for_duplicates(*dataframes):\n",
    "    \"\"\"\n",
    "    Return the number of duplicates in a dataframe\n",
    "    \n",
    "    Parameters\n",
    "    ----------\n",
    "    dataframes: Name of the dataframes\n",
    "    \n",
    "    \"\"\"\n",
    "    for dataframe in dataframes:\n",
    "        name =[x for x in globals() if globals()[x] is dataframe][0]\n",
    "        print(f' Duplicates in {name} = {dataframe.duplicated().sum()}')\n",
    "        \n",
    "\n",
    "# Visualize a single column of a DataFrame\n",
    "def visualize_column(data, bins=10):\n",
    "    \"\"\"\n",
    "    Returns a boxplot and displot of a single columns from a dataset\n",
    "    \n",
    "    Parameters\n",
    "    ----------\n",
    "    data : DataFrame, array, or list of arrays Dataset for plotting. \n",
    "    \n",
    "    bins : argument for matplotlib hist(), or Default is 10, optional\n",
    "           Specification of hist bins, or None to use Freedman-Diaconis rule.\n",
    "    \n",
    "    \"\"\"\n",
    "    plt.figure(figsize = (14,6))\n",
    "    plt.subplot(1,2,1)\n",
    "    sns.boxplot(data)\n",
    "    plt.subplot(1,2,2)\n",
    "    sns.distplot(data, bins)\n",
    "    plt.show()\n",
    "\n",
    "# Statistical Reports of a given data\n",
    "def statistical_reports(data):\n",
    "    \"\"\"\n",
    "    Generate descriptive statistics that summarize the central tendency,\n",
    "    dispersion and shape of a dataset's distribution, excluding ``NaN`` values\n",
    "    \n",
    "    Analyzes both numeric and object series, as well as ``DataFrame`` \n",
    "    column sets of mixed data types. The output will vary depending on what is provided\n",
    "    \n",
    "    Also provides the potential outliers (lower bounds and upper bounds).\n",
    "    \n",
    "    Parameters\n",
    "    ----------\n",
    "    data : DataFrame, array, or list of arrays Dataset\n",
    "    \n",
    "    \"\"\"\n",
    "    stat = data.describe()\n",
    "    print(stat)\n",
    "    IQR = stat['75%'] - stat['25%']\n",
    "    upper = stat['75%'] + 1.5*IQR\n",
    "    lower = stat['25%'] - 1.5*IQR\n",
    "    print('The upper and lower bounds for suspected outliers are {} and {}.'.format(upper, lower))\n",
    "\n",
    "# Clean Data\n",
    "def clean_data(raw_df, duplicate_column_check, target_column, rearrange = False):\n",
    "    \"\"\"\n",
    "    Remove rows that contain value of target_column (salary in this case) < 0 \n",
    "    and check duplicate based on a single column\n",
    "    \n",
    "    Parameters\n",
    "    ----------\n",
    "    \n",
    "    raw_df: Dataset that are targeted to be cleaned\n",
    "    duplicate_column_check: name the column on the raw_df that may have duplicates\n",
    "    target_column: predicted column\n",
    "    rearrange: Default False. \n",
    "               Shuffle and reindex data -- shuffling improves cross-validation\n",
    "    \"\"\"\n",
    "    clean_df = raw_df.drop_duplicates(subset= duplicate_column_check)\n",
    "    clean_df = clean_df[clean_df[target_column]>0]\n",
    "    if rearrange == False:\n",
    "        return clean_df\n",
    "    else:\n",
    "        return shuffle(clean_df).reset_index()\n",
    "    \n",
    "# Plot Feature\n",
    "def plot_feature(df, col):\n",
    "    \"\"\"\n",
    "    Make plot for each features\n",
    "    left, the distribution of samples on the feature\n",
    "    right, the dependance of salary on the feature\n",
    "    \n",
    "    Parameters\n",
    "    ----------\n",
    "    df : DataFrame, array, or list of arrays Dataset\n",
    "    col: columns of a dataframe\n",
    "    \n",
    "    \"\"\"\n",
    "    plt.figure(figsize = (14, 6))\n",
    "    plt.subplot(1, 2, 1)\n",
    "    if df[col].dtype == 'int64':\n",
    "        df[col].value_counts().sort_index().plot()\n",
    "    else:\n",
    "        #change the categorical variable to category type and order their level by the mean salary\n",
    "        #in each category\n",
    "        mean = df.groupby(col)['salary'].mean()\n",
    "        df[col] = df[col].astype('category')\n",
    "        levels = mean.sort_values().index.tolist()\n",
    "        df[col].cat.reorder_categories(levels, inplace=True)\n",
    "        df[col].value_counts().plot()\n",
    "    plt.xticks(rotation=45)\n",
    "    plt.xlabel(col)\n",
    "    plt.ylabel('Counts')\n",
    "    \n",
    "    plt.subplot(1, 2, 2)\n",
    "    if df[col].dtype == 'int64' or col == 'companyId':\n",
    "        #plot the mean salary for each category and fill between the (mean - std, mean + std)\n",
    "        mean = df.groupby(col)['salary'].mean()\n",
    "        std = df.groupby(col)['salary'].std()\n",
    "        mean.plot()\n",
    "        plt.fill_between(range(len(std.index)), mean.values-std.values, mean.values + std.values, \\\n",
    "                         alpha = 0.1)\n",
    "    else:\n",
    "        sns.boxplot(x = col, y = 'salary', data=df)\n",
    "    \n",
    "    plt.xticks(rotation=45)\n",
    "    plt.ylabel('Salaries')\n",
    "\n",
    "# encode label\n",
    "def encode_label(df, col):\n",
    "    '''\n",
    "    encode the categories using average salary for each category to replace label\n",
    "    \n",
    "    Parameters\n",
    "    ----------\n",
    "    df: Name of the dataframes\n",
    "    col: column in the dataframe\n",
    "    '''\n",
    "    \n",
    "    cat_dict ={}\n",
    "    cats = df[col].cat.categories.tolist()\n",
    "    for cat in cats:\n",
    "        cat_dict[cat] = train_df[train_df[col]==cat]['salary'].mean()\n",
    "    df[col] = df[col].map(cat_dict)\n",
    "\n",
    "# Encoding categorical data and get final feature dataframes\n",
    "def one_hot_encode_feature_df(df, cat_vars=None, num_vars=None):\n",
    "    \"\"\"\n",
    "    Perfoms one-hot encoding on all categrorical variables and combines result with continuous variable\n",
    "    Parameters\n",
    "    ----------\n",
    "    df: Select the Dataframe\n",
    "    cat_vars: categorical variables\n",
    "    num_vars: numerical variables\n",
    "    \"\"\"\n",
    "    cat_df = pd.get_dummies(df[cat_vars])\n",
    "    num_df = df[num_vars].apply(pd.to_numeric)\n",
    "    return pd.concat([cat_df, num_df], axis=1)#ignore_index = False \n",
    "\n",
    "# Get the target variable\n",
    "def get_target_df(df, target_variable):\n",
    "    \"\"\"\n",
    "    returns the target dataframe\n",
    "    Parameters\n",
    "    ----------\n",
    "    df: dataframe\n",
    "    target_variable: name the target variable\n",
    "    \n",
    "    \"\"\"\n",
    "    return df[target_variable]\n",
    "\n",
    "\n",
    "# train an model\n",
    "def train_model(model, feature_df, target_df, num_procs, mean_mse, cv_std):\n",
    "    \"\"\"\n",
    "    Train the sklearn-estimatator\n",
    "    Parameters\n",
    "    ----------\n",
    "    model: estimator object implementing 'fit'\n",
    "                The object to use to fit the data.\n",
    "\n",
    "    feature_df : array-like of shape (n_samples, n_features)\n",
    "                 The data to fit. Can be for example a list, or an array.\n",
    "\n",
    "    target_df : The target variable to try to predict in the case of supervised learning.\n",
    "    \n",
    "    num_procs : int. The number of CPUs to use to do the computation.\n",
    "    \n",
    "    mean_mse:\n",
    "    \n",
    "    cv_std:\n",
    "    \"\"\"\n",
    "    neg_mse = cross_val_score(model, feature_df, target_df, cv = 2, n_jobs = num_procs, \n",
    "                              scoring = 'neg_mean_squared_error')\n",
    "    mean_mse[model] = (-1)* np.mean(neg_mse)\n",
    "    cv_std[model] = np.std(neg_mse)\n",
    "    \n",
    "# Print summary\n",
    "def print_summary(model, mean_mse, cv_std):\n",
    "    \"\"\"\n",
    "    Print Summary of each model\n",
    "    Parameters\n",
    "    ----------\n",
    "    model: name of the estimators\n",
    "    mean_mse: Average of the mean squared error\n",
    "    cv_std: Standard deviation during cross-validation\n",
    "    \"\"\"\n",
    "    print(f'\\nModel: \\n {model}')\n",
    "    print(f'\\nAverage MSE: \\n {mean_mse[model]}')\n",
    "    print(f'\\nStandard deviation during CV: \\n {cv_std[model]}')\n",
    "    \n",
    "# save results\n",
    "def save_results(model, mean_mse, predictionn, feature_importances):\n",
    "    with open('model.txt', 'w') as file:\n",
    "        file.write(str(model))\n",
    "    feature_importances.to_csv('feature_importances')\n",
    "    np.savetxt('predictions.csv', predictions, delimiter=',')"
   ]
  }
 ],
 "metadata": {
  "kernelspec": {
   "display_name": "Python 3",
   "language": "python",
   "name": "python3"
  },
  "language_info": {
   "codemirror_mode": {
    "name": "ipython",
    "version": 3
   },
   "file_extension": ".py",
   "mimetype": "text/x-python",
   "name": "python",
   "nbconvert_exporter": "python",
   "pygments_lexer": "ipython3",
   "version": "3.7.4"
  }
 },
 "nbformat": 4,
 "nbformat_minor": 2
}
